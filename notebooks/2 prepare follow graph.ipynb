{
 "cells": [
  {
   "cell_type": "markdown",
   "id": "c5d25ccc-f933-4c55-8724-be86a90b9261",
   "metadata": {},
   "source": [
    "# Convert the raw JSON that was fetched to two-column Parquet, for upload to Athena and for processing"
   ]
  },
  {
   "cell_type": "code",
   "execution_count": 1,
   "id": "a538a1b6-ac2b-4349-a071-49b47388c713",
   "metadata": {},
   "outputs": [],
   "source": [
    "import os\n",
    "import orjson\n",
    "import dask\n",
    "import dask.bag\n",
    "import dask.dataframe\n",
    "\n",
    "import numpy as np\n",
    "import datetime"
   ]
  },
  {
   "cell_type": "code",
   "execution_count": 2,
   "id": "35065b07-27e3-406d-851d-412d4f8dba70",
   "metadata": {},
   "outputs": [],
   "source": [
    "base_dir = \"/rapids/src/tribex/LexicalFraming\""
   ]
  },
  {
   "cell_type": "markdown",
   "id": "7ad49e55-14b6-48c6-a5af-fdc94f60af25",
   "metadata": {},
   "source": [
    "### Data preparation notes\n",
    "\n",
    "Hang ran this Athena query:\n",
    "\n",
    "```\n",
    "with t as (\n",
    "select actor_id, actor_preferredusername, count(*), max(actor_statusescount) as max_tweetcount\n",
    "from us_deca inner join usa_loc_litecoder_pq\n",
    "on lower(ltrim(rtrim(us_deca.actor_location_displayname))) = usa_loc_litecoder_pq.location\n",
    "where us_deca.actor_friendscount > 10\n",
    "    AND us_deca.actor_followerscount > 10\n",
    "    AND actor_favoritescount > 20\n",
    "    AND state is not null\n",
    "    AND actor_image is not null\n",
    "    AND LENGTH(actor_summary) > 10\n",
    "    AND LENGTH(state) > 1 AND LENGTH(city) > 1\n",
    "group by actor_id, actor_preferredusername\n",
    "having count(*) >= 10 and count(*) <= 5000\n",
    ") select actor_id, actor_preferredusername, max_tweetcount from t\n",
    "```\n",
    "\n",
    "This yielded `2445242` users, Athena cache results are here:\n",
    "\n",
    "`s3://aws-athena-query-results-411833189048-us-east-1/Unsaved/2022/01/21/c0c2c5bb-7a4c-4bfb-9000-2bbdc635cb23.csv`\n",
    "\n",
    "I downloaded and converted to JSON with this:\n",
    "\n",
    "`cat c0c2c5bb-7a4c-4bfb-9000-2bbdc635cb23.csv | tail +2 | jq --slurp \".|sort_by(.|tonumber)\"  - >usa_tweeters.json`\n",
    "\n",
    "Then, I grabbed the friends of these users with Martin's `crawl_network` script, which yielded `usa_tweeters_friends.json.gz`\n"
   ]
  },
  {
   "cell_type": "code",
   "execution_count": null,
   "id": "cdb66945-3991-4e66-960c-70f5ca1ec8a5",
   "metadata": {},
   "outputs": [],
   "source": []
  },
  {
   "cell_type": "markdown",
   "id": "8ee48e86-2c17-4796-82d7-9fc8c5d79b85",
   "metadata": {},
   "source": [
    "_After fetching the follow graph as a large, compressed JSON, split into multiple files before processing with Dask. __NOTE: now I am using `--line-bytes` argument which preserves lines and targets a desired number of bytes in each split___\n",
    "\n",
    "`zcat usa_tweeters_friends.json.gz | split --line-bytes=512M - --numeric-suffixes --filter='gzip > $FILE.gz' usa_tweeters_friends-splitfiles/part_`\n",
    "\n",
    "_Note that 512M is the target output from the split, before the gzip which is yielding ~200MB files_\n",
    "\n"
   ]
  },
  {
   "cell_type": "markdown",
   "id": "2f5ddc84-9c63-471d-928e-b7aea64b3672",
   "metadata": {},
   "source": [
    "# Set up Dask and convert follow graph to two column Parquet"
   ]
  },
  {
   "cell_type": "code",
   "execution_count": 3,
   "id": "06cd041f-1e2a-44df-8653-567a7e755f89",
   "metadata": {},
   "outputs": [],
   "source": [
    "from dask.distributed import Client, LocalCluster\n",
    "\n",
    "dask.config.set({\"temporary-directory\":\"/rapids/src/tribex/LexicalFraming/tmp_dask_dir\"})\n",
    "cluster = LocalCluster(dashboard_address=':58701',\n",
    "                       n_workers=4, \n",
    "                       threads_per_worker=2)\n",
    "client = Client(cluster)"
   ]
  },
  {
   "cell_type": "markdown",
   "id": "5670ed4b-715b-48a1-96ca-54a359b2f307",
   "metadata": {},
   "source": [
    "## Convert to Parquet but also check if there would be any integer ID overflows when uploaded to Athena"
   ]
  },
  {
   "cell_type": "code",
   "execution_count": 4,
   "id": "8cecee3f-ee25-46bb-905f-f5a683a5e4ee",
   "metadata": {},
   "outputs": [],
   "source": [
    "\n",
    "MAX_ATHENA_ID = np.uint64((2**63)-1) # This seems to be the largest integer ID that Athena could properly represent\n",
    "\n"
   ]
  },
  {
   "cell_type": "code",
   "execution_count": 11,
   "id": "eea894d6-08ac-4766-b3e6-5f0c38091a0b",
   "metadata": {},
   "outputs": [
    {
     "name": "stdout",
     "output_type": "stream",
     "text": [
      "Compute duration: 0:22:42.119701\n",
      "CPU times: user 20min 34s, sys: 54.2 s, total: 21min 29s\n",
      "Wall time: 22min 42s\n"
     ]
    }
   ],
   "source": [
    "%%time\n",
    "\n",
    "start_time = datetime.datetime.now()\n",
    "\n",
    "def convert_follower_friendlist(record):\n",
    "    follower_uid = np.uint64(record[0])\n",
    "    friend_uids = np.unique([np.uint64(x) for x in record[1][\"result\"]])\n",
    "    return follower_uid,friend_uids\n",
    "    \n",
    "dask.bag\\\n",
    "    .read_text(os.path.join(base_dir,\"usa_tweeters_friends-splitfiles\",\"part_*.gz\"),compression='gzip')\\\n",
    "    .map(orjson.loads)\\\n",
    "    .filter(lambda record: (\"result\" in record[1]) and (len(record[1][\"result\"]) > 0))\\\n",
    "    .map(convert_follower_friendlist)\\\n",
    "    .to_dataframe(meta={\"follower\":np.uint64,\"friends\":object})\\\n",
    "    .explode(\"friends\")\\\n",
    "    .astype({'friends':np.uint64})\\\n",
    "    .rename(columns={'friends':'friend'})\\\n",
    "    .to_parquet(os.path.join(base_dir, \"usa_tweeters_friends-parquet\"),\n",
    "                compression='snappy',\n",
    "                write_index=False)\n",
    "\n",
    "#    .set_index('follower',partition_size='128MB')\\\n",
    "# OR .set_index('follower').repartition(partition_size='128MB')\\\n",
    "#\n",
    "# OR \n",
    "#    .set_index('follower')\\\n",
    "# unfortuantely, even this is too much shuffling! Forget setting the index../\n",
    "\n",
    "# BUT ACTUALLY, let's not do either since I've resplit the JSONs to be about the same output size\n",
    "\n",
    "finish_time = datetime.datetime.now()\n",
    "print(f\"Compute duration: {finish_time - start_time}\")"
   ]
  },
  {
   "cell_type": "markdown",
   "id": "9ac740cb-0fde-45dc-b5db-3da8d6b6bb82",
   "metadata": {},
   "source": [
    "## <font color=\"red\">NOTE: next time, do not convert ids to uint64, since in the end things work better on Athena as strings</font>"
   ]
  },
  {
   "cell_type": "code",
   "execution_count": 18,
   "id": "d88c8ceb-30ca-43cd-9bd7-bc0a0b079736",
   "metadata": {},
   "outputs": [
    {
     "name": "stdout",
     "output_type": "stream",
     "text": [
      "CPU times: user 40.1 s, sys: 2 s, total: 42.1 s\n",
      "Wall time: 42.1 s\n"
     ]
    },
    {
     "data": {
      "text/plain": [
       "False"
      ]
     },
     "execution_count": 18,
     "metadata": {},
     "output_type": "execute_result"
    }
   ],
   "source": [
    "%%time\n",
    "\n",
    "ddf = dask.dataframe.read_parquet(os.path.join(base_dir, \"usa_tweeters_friends-parquet\"))\n",
    "((ddf.index > MAX_ATHENA_ID) | (ddf.friend > MAX_ATHENA_ID)).any().compute()\n"
   ]
  },
  {
   "cell_type": "code",
   "execution_count": 19,
   "id": "b023694e-0540-4c52-a371-31e7d321b298",
   "metadata": {},
   "outputs": [
    {
     "data": {
      "text/html": [
       "<div>\n",
       "<style scoped>\n",
       "    .dataframe tbody tr th:only-of-type {\n",
       "        vertical-align: middle;\n",
       "    }\n",
       "\n",
       "    .dataframe tbody tr th {\n",
       "        vertical-align: top;\n",
       "    }\n",
       "\n",
       "    .dataframe thead th {\n",
       "        text-align: right;\n",
       "    }\n",
       "</style>\n",
       "<table border=\"1\" class=\"dataframe\">\n",
       "  <thead>\n",
       "    <tr style=\"text-align: right;\">\n",
       "      <th></th>\n",
       "      <th>follower</th>\n",
       "      <th>friend</th>\n",
       "    </tr>\n",
       "  </thead>\n",
       "  <tbody>\n",
       "    <tr>\n",
       "      <th>0</th>\n",
       "      <td>13</td>\n",
       "      <td>12</td>\n",
       "    </tr>\n",
       "    <tr>\n",
       "      <th>1</th>\n",
       "      <td>13</td>\n",
       "      <td>14</td>\n",
       "    </tr>\n",
       "    <tr>\n",
       "      <th>2</th>\n",
       "      <td>13</td>\n",
       "      <td>15</td>\n",
       "    </tr>\n",
       "    <tr>\n",
       "      <th>3</th>\n",
       "      <td>13</td>\n",
       "      <td>16</td>\n",
       "    </tr>\n",
       "    <tr>\n",
       "      <th>4</th>\n",
       "      <td>13</td>\n",
       "      <td>17</td>\n",
       "    </tr>\n",
       "  </tbody>\n",
       "</table>\n",
       "</div>"
      ],
      "text/plain": [
       "   follower  friend\n",
       "0        13      12\n",
       "1        13      14\n",
       "2        13      15\n",
       "3        13      16\n",
       "4        13      17"
      ]
     },
     "execution_count": 19,
     "metadata": {},
     "output_type": "execute_result"
    }
   ],
   "source": [
    "ddf = dask.dataframe.read_parquet(os.path.join(base_dir, \"usa_tweeters_friends-parquet\"))\n",
    "ddf.head()"
   ]
  },
  {
   "cell_type": "code",
   "execution_count": 22,
   "id": "04a8abe1-5cea-45c2-8c5c-7b4986cd1e77",
   "metadata": {},
   "outputs": [
    {
     "name": "stdout",
     "output_type": "stream",
     "text": [
      "Variable                      Type            Data/Info\n",
      "-------------------------------------------------------\n",
      "Client                        type            <class 'distributed.client.Client'>\n",
      "LocalCluster                  type            <class 'distributed.deploy.local.LocalCluster'>\n",
      "MAX_ATHENA_ID                 uint64          9223372036854775807\n",
      "base_dir                      str             /rapids/src/tribex/LexicalFraming\n",
      "client                        Client          <Client: 'tcp://127.0.0.1<...>ads=8, memory=125.80 GiB>\n",
      "cluster                       LocalCluster    LocalCluster(d5712102, 't<...>ads=8, memory=125.80 GiB)\n",
      "convert_follower_friendlist   function        <function convert_followe<...>ndlist at 0x7fbf2a3a7310>\n",
      "dask                          module          <module 'dask' from '/opt<...>ckages/dask/__init__.py'>\n",
      "datetime                      module          <module 'datetime' from '<...>b/python3.8/datetime.py'>\n",
      "ddf                           DataFrame       Dask DataFrame Structure:<...>e: read-parquet, 63 tasks\n",
      "finish_time                   datetime        2022-02-01 17:06:05.276278\n",
      "np                            module          <module 'numpy' from '/op<...>kages/numpy/__init__.py'>\n",
      "orjson                        module          <module 'orjson' from '/o<...>ages/orjson/__init__.py'>\n",
      "os                            module          <module 'os' from '/opt/c<...>ids/lib/python3.8/os.py'>\n",
      "start_time                    datetime        2022-02-01 16:43:23.156577\n"
     ]
    }
   ],
   "source": [
    "%whos"
   ]
  },
  {
   "cell_type": "code",
   "execution_count": null,
   "id": "00667563-ceb5-468e-accd-a5aab6a15e85",
   "metadata": {},
   "outputs": [],
   "source": []
  }
 ],
 "metadata": {
  "kernelspec": {
   "display_name": "Python 3 (ipykernel)",
   "language": "python",
   "name": "python3"
  },
  "language_info": {
   "codemirror_mode": {
    "name": "ipython",
    "version": 3
   },
   "file_extension": ".py",
   "mimetype": "text/x-python",
   "name": "python",
   "nbconvert_exporter": "python",
   "pygments_lexer": "ipython3",
   "version": "3.8.12"
  }
 },
 "nbformat": 4,
 "nbformat_minor": 5
}
