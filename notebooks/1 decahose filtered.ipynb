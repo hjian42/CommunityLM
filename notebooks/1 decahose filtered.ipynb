{
 "cells": [
  {
   "cell_type": "markdown",
   "id": "d0d271d9-ff75-4bb7-b656-ab56ef7b3cf3",
   "metadata": {},
   "source": [
    "# Lexical framing: code to construct month-by-month tables of desired data from the decahose, stored as Parquet\n",
    "Lexical framing project with Hang"
   ]
  },
  {
   "cell_type": "code",
   "execution_count": 1,
   "id": "90ec3f94-c891-42d0-b2a5-1fd75d675464",
   "metadata": {},
   "outputs": [],
   "source": [
    "\n",
    "import datetime\n",
    "import boto3\n",
    "import pyathena"
   ]
  },
  {
   "cell_type": "code",
   "execution_count": 4,
   "id": "2250b2ed-b442-4829-9354-626a578dd529",
   "metadata": {},
   "outputs": [],
   "source": [
    "# Assumes a file ~/.aws/credentials exists\n",
    "\n",
    "session = boto3.Session(profile_name='lsm',)"
   ]
  },
  {
   "cell_type": "code",
   "execution_count": 10,
   "id": "d069317b-7083-42f5-b1c7-97a634ac639f",
   "metadata": {},
   "outputs": [],
   "source": [
    "frozen_creds = session.get_credentials().get_frozen_credentials()\n",
    "conn = pyathena.connect(aws_access_key_id=frozen_creds.access_key,\n",
    "                        aws_secret_access_key=frozen_creds.secret_key,\n",
    "                        schema_name='lexical_framing',\n",
    "                        s3_staging_dir='s3://lsm-data/lexical-framing/athena_cache/',\n",
    "                        region_name='us-east-1')"
   ]
  },
  {
   "cell_type": "code",
   "execution_count": 11,
   "id": "f97b93cc-3117-485c-8363-3d355e9e86cb",
   "metadata": {},
   "outputs": [],
   "source": [
    "# date_starts = ['2020-07-01','2020-08-01','2020-09-01','2020-10-01','2020-11-01','2020-12-01',\n",
    "#                '2021-01-01','2021-02-01','2021-03-01','2021-04-01','2021-05-01','2021-06-01','2021-07-01']\n",
    "\n",
    "# date_starts = ['2021-07-01','2021-08-01','2021-09-01','2021-10-01','2021-11-01','2021-12-01',\n",
    "#                '2022-01-01','2022-02-01','2022-03-01','2022-04-01','2022-05-01','2022-06-01',\n",
    "#                '2022-07-01','2022-08-01','2022-09-01','2022-10-01','2022-11-01','2022-12-01']\n",
    "\n",
    "date_starts = ['2022-12-01','2023-01-01']\n",
    "\n",
    "\n",
    "#date_starts = ['2020-07-01','2020-07-03']\n"
   ]
  },
  {
   "cell_type": "code",
   "execution_count": 12,
   "id": "5c5661d7-8726-4b30-8bf4-f355cd5ba2ef",
   "metadata": {},
   "outputs": [
    {
     "name": "stdout",
     "output_type": "stream",
     "text": [
      "Processing date range: [2022-12-01,2023-01-01). Running query at time: 2023-01-29 21:41:29.010188\n"
     ]
    }
   ],
   "source": [
    "cursor = conn.cursor()\n",
    "\n",
    "for start_day_str,end_day_str in zip(date_starts[:-1],date_starts[1:]):\n",
    "    print(f\"Processing date range: [{start_day_str},{end_day_str}). Running query at time: {datetime.datetime.now()}\")\n",
    "    \n",
    "    query1 = f\"\"\"\n",
    "CREATE TABLE IF NOT EXISTS lexical_framing.us_deca_{start_day_str.replace('-','')}\n",
    "WITH (\n",
    "    format='PARQUET',\n",
    "    write_compression = 'SNAPPY',\n",
    "    external_location='s3://lsm-data/lexical-framing/us_deca/us_deca_{start_day_str.replace('-','')}/',\n",
    "    partitioned_by = ARRAY['day']) \n",
    "AS\n",
    "SELECT\n",
    "  \"split_part\"(\"json_extract_scalar\"(line, '$.id'), ':', 3) id\n",
    ", \"json_extract_scalar\"(line, '$.postedTime') postedTime\n",
    ", \"json_extract_scalar\"(line, '$.verb') verb\n",
    "\n",
    ", \"split_part\"(\"json_extract_scalar\"(line, '$.actor.id'), ':', 3) actor_id\n",
    ", \"json_extract_scalar\"(line, '$.actor.preferredUsername') actor_preferredUsername\n",
    ", \"json_extract_scalar\"(line, '$.actor.displayName') actor_displayName\n",
    ", \"json_extract_scalar\"(line, '$.actor.summary') actor_summary\n",
    ", \"json_extract_scalar\"(line, '$.actor.image') actor_image\n",
    ", CAST(\"json_extract_scalar\"(line, '$.actor.friendsCount') AS INTEGER) actor_friendsCount\n",
    ", CAST(\"json_extract_scalar\"(line, '$.actor.followersCount') AS INTEGER) actor_followersCount\n",
    ", CAST(\"json_extract_scalar\"(line, '$.actor.statusesCount') AS INTEGER) actor_statusesCount\n",
    ", CAST(\"json_extract_scalar\"(line, '$.actor.favoritesCount') AS INTEGER) actor_favoritesCount\n",
    ", \"json_extract_scalar\"(line, '$.actor.location.displayName') actor_location_displayName\n",
    "\n",
    ", \"json_extract_scalar\"(line, '$.twitter_lang') twitter_lang\n",
    ", \"json_extract_scalar\"(line, '$.body') body\n",
    ", \"json_extract_scalar\"(line, '$.long_object.body') longobj_body\n",
    ", \"json_extract_scalar\"(line, '$.object.long_object.body') object_longobj_body\n",
    ", day\n",
    "FROM\n",
    "  decahose.decahose_line\n",
    "WHERE (\n",
    "    (line <> '') AND \n",
    "    (\"json_extract_scalar\"(line, '$.objectType') = 'activity') AND\n",
    "    (\"json_extract_scalar\"(line, '$.verb') = 'post') AND\n",
    "    (\"json_extract_scalar\"(line, '$.twitter_lang') = 'en') AND\n",
    "    ((\"json_extract_scalar\"(line, '$.actor.location.displayName') <> '') OR \n",
    "        (\"json_extract_scalar\"(line, '$.actor.location.displayName') IS NOT NULL)) AND\n",
    "    (day >= DATE '{start_day_str}' AND day < DATE '{end_day_str}')\n",
    "    )\n",
    "    \"\"\"\n",
    "#    print(query1)\n",
    "    cursor.execute(query1)"
   ]
  },
  {
   "cell_type": "code",
   "execution_count": 13,
   "id": "930a0c0f-1fa5-4129-a01f-22b8554e4d44",
   "metadata": {},
   "outputs": [],
   "source": [
    "cursor.close()"
   ]
  },
  {
   "cell_type": "code",
   "execution_count": 14,
   "id": "dfdaf738-a663-47b5-ba22-e24e3274fde0",
   "metadata": {},
   "outputs": [],
   "source": [
    "conn.close()"
   ]
  },
  {
   "cell_type": "code",
   "execution_count": null,
   "id": "023d5eb9-13f7-4e1f-a041-6cf156218330",
   "metadata": {},
   "outputs": [],
   "source": []
  }
 ],
 "metadata": {
  "kernelspec": {
   "display_name": "Python 3 (ipykernel)",
   "language": "python",
   "name": "python3"
  },
  "language_info": {
   "codemirror_mode": {
    "name": "ipython",
    "version": 3
   },
   "file_extension": ".py",
   "mimetype": "text/x-python",
   "name": "python",
   "nbconvert_exporter": "python",
   "pygments_lexer": "ipython3",
   "version": "3.9.13"
  }
 },
 "nbformat": 4,
 "nbformat_minor": 5
}
